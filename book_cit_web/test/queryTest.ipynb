{
 "cells": [
  {
   "cell_type": "code",
   "execution_count": 1,
   "metadata": {},
   "outputs": [],
   "source": [
    "from django_for_jupyter import init_django\n",
    "init_django()"
   ]
  },
  {
   "cell_type": "code",
   "execution_count": 94,
   "metadata": {},
   "outputs": [
    {
     "name": "stdout",
     "output_type": "stream",
     "text": [
      "    book_id                                            content\n",
      "0      3001  CDMA capacity and quality optimization code di...\n",
      "1      3002  Image databases : Search and retrieval of digi...\n",
      "2      3003  Practical handbook on image processing for sci...\n",
      "3      3004  Analytics, data science, & artificial intellig...\n",
      "4      3005  Composing cyberspace : Identity, community, an...\n",
      "..      ...                                                ...\n",
      "71     3072  Giáo trình lập trình .Net Computer programming...\n",
      "72     3073  Giáo trình đảm bảo chất lượng phần mềm Softwar...\n",
      "73     3074  Data engineering Fuzzy mathematics in systems ...\n",
      "74     3075  Digital image processing Image processing Digi...\n",
      "75     3076  Digital image processing using MATLAB Image pr...\n",
      "\n",
      "[76 rows x 2 columns]\n"
     ]
    }
   ],
   "source": [
    "from home.models import Book_Topic, Book\n",
    "import pandas as pd\n",
    "# from django_pandas.io import read_frame\n",
    "books = Book.objects.all()\n",
    "bookTopic = Book_Topic.objects.prefetch_related('topic_id')\n",
    "check = True\n",
    "dics = []\n",
    "for book in books:\n",
    "    content = book.book_title\n",
    "    topics = bookTopic.filter(book_id = book.book_id)\n",
    "    for topic in topics:\n",
    "        content+=' '+topic.topic_id.topic_name\n",
    "    dic = {'book_id': book.book_id,\n",
    "            'content': content\n",
    "           }\n",
    "    dics.append(dic) \n",
    "book_df = pd.DataFrame(dics)\n",
    "print(book_df)"
   ]
  },
  {
   "cell_type": "code",
   "execution_count": 95,
   "metadata": {},
   "outputs": [],
   "source": [
    "from sklearn.metrics.pairwise import linear_kernel\n",
    "from sklearn.feature_extraction.text import TfidfVectorizer\n",
    "from sklearn.feature_extraction import text"
   ]
  },
  {
   "cell_type": "code",
   "execution_count": 96,
   "metadata": {},
   "outputs": [
    {
     "data": {
      "text/plain": [
       "(76, 268)"
      ]
     },
     "execution_count": 96,
     "metadata": {},
     "output_type": "execute_result"
    }
   ],
   "source": [
    "\n",
    "book_tfidf = TfidfVectorizer(stop_words='english')\n",
    "book_df['content'] = book_df['content'].fillna('')\n",
    "book_content_matrix = book_tfidf.fit_transform(book_df['content'])\n",
    "book_content_matrix.shape"
   ]
  },
  {
   "cell_type": "code",
   "execution_count": 97,
   "metadata": {},
   "outputs": [],
   "source": [
    "cosine_similarity = linear_kernel(book_content_matrix, book_content_matrix)"
   ]
  },
  {
   "cell_type": "code",
   "execution_count": 125,
   "metadata": {},
   "outputs": [
    {
     "name": "stdout",
     "output_type": "stream",
     "text": [
      "The choice is: Giáo trình lập trình căn bản với ngôn ngữ C\n",
      "3014 - Problem solving and programming concepts \n",
      "3066 - Giáo trình lập trình ứng dụng mạng với Python \n",
      "3068 - Giáo trình ngôn ngữ mô hình hóa UML \n",
      "3072 - Giáo trình lập trình .Net \n",
      "3063 - Giáo trình lập trình hướng đối tượng \n"
     ]
    }
   ],
   "source": [
    "choice = 49\n",
    "similarity_scores = list(enumerate(cosine_similarity[choice-1]))\n",
    "similarity_scores = sorted(similarity_scores, key=lambda x: x[1], reverse=True)\n",
    "similarity_scores = similarity_scores[1:6]\n",
    "\n",
    "# Get the similar books index\n",
    "books_index = [i[0] for i in similarity_scores]\n",
    "\n",
    "# printing the top 5 most similar books using integer-location based indexing (iloc)\n",
    "print(f'The choice is: {books[choice-1].book_title}')\n",
    "for i in books_index:\n",
    "    print(f'{books[i].book_id} - {books[i].book_title} ')\n"
   ]
  },
  {
   "cell_type": "code",
   "execution_count": 136,
   "metadata": {},
   "outputs": [
    {
     "name": "stdout",
     "output_type": "stream",
     "text": [
      "C:\\Users\\thait\\OneDrive\\Máy tính\\BooK_web\\book_cit_web\\media\\\n"
     ]
    }
   ],
   "source": [
    "from book_cit_web.settings import BASE_DIR\n",
    "import os\n",
    "from pathlib import Path\n",
    "print(os.path.join(BASE_DIR,'media\\\\'))\n"
   ]
  }
 ],
 "metadata": {
  "kernelspec": {
   "display_name": "Python 3 (ipykernel)",
   "language": "python",
   "name": "python3"
  },
  "language_info": {
   "codemirror_mode": {
    "name": "ipython",
    "version": 3
   },
   "file_extension": ".py",
   "mimetype": "text/x-python",
   "name": "python",
   "nbconvert_exporter": "python",
   "pygments_lexer": "ipython3",
   "version": "3.12.1"
  }
 },
 "nbformat": 4,
 "nbformat_minor": 4
}
