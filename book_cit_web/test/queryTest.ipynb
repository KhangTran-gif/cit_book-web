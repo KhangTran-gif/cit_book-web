{
 "cells": [
  {
   "cell_type": "code",
   "execution_count": 24,
   "metadata": {},
   "outputs": [],
   "source": [
    "from django_for_jupyter import init_django\n",
    "init_django()"
   ]
  },
  {
   "cell_type": "code",
   "execution_count": 2,
   "metadata": {},
   "outputs": [
    {
     "name": "stdout",
     "output_type": "stream",
     "text": [
      "    book_id                                            content\n",
      "0      3032  Cisco The complete reference Computer network ...\n",
      "1      3001  CDMA capacity and quality optimization code di...\n",
      "2      3002  Image databases : Search and retrieval of digi...\n",
      "3      3003  Practical handbook on image processing for sci...\n",
      "4      3004  Analytics, data science, & artificial intellig...\n",
      "..      ...                                                ...\n",
      "71     3072  Giáo trình lập trình .Net Computer programming...\n",
      "72     3073  Giáo trình đảm bảo chất lượng phần mềm Softwar...\n",
      "73     3074  Data engineering Fuzzy mathematics in systems ...\n",
      "74     3075  Digital image processing Image processing Digi...\n",
      "75     3076  Digital image processing using MATLAB Image pr...\n",
      "\n",
      "[76 rows x 2 columns]\n"
     ]
    }
   ],
   "source": [
    "from home.models import Book_Topic, Book\n",
    "import pandas as pd\n",
    "# from django_pandas.io import read_frame\n",
    "books = Book.objects.all()\n",
    "bookTopic = Book_Topic.objects.prefetch_related('topic_id')\n",
    "check = True\n",
    "dics = []\n",
    "for book in books:\n",
    "    content = book.book_title\n",
    "    topics = bookTopic.filter(book_id = book.book_id)\n",
    "    for topic in topics:\n",
    "        content+=' '+topic.topic_id.topic_name\n",
    "    dic = {'book_id': book.book_id,\n",
    "            'content': content\n",
    "           }\n",
    "    dics.append(dic) \n",
    "book_df = pd.DataFrame(dics)\n",
    "print(book_df)"
   ]
  },
  {
   "cell_type": "code",
   "execution_count": 3,
   "metadata": {},
   "outputs": [],
   "source": [
    "from sklearn.metrics.pairwise import linear_kernel\n",
    "from sklearn.feature_extraction.text import TfidfVectorizer\n",
    "from sklearn.feature_extraction import text"
   ]
  },
  {
   "cell_type": "code",
   "execution_count": 4,
   "metadata": {},
   "outputs": [
    {
     "data": {
      "text/plain": [
       "(76, 268)"
      ]
     },
     "execution_count": 4,
     "metadata": {},
     "output_type": "execute_result"
    }
   ],
   "source": [
    "\n",
    "book_tfidf = TfidfVectorizer(stop_words='english')\n",
    "book_df['content'] = book_df['content'].fillna('')\n",
    "book_content_matrix = book_tfidf.fit_transform(book_df['content'])\n",
    "book_content_matrix.shape"
   ]
  },
  {
   "cell_type": "code",
   "execution_count": 5,
   "metadata": {},
   "outputs": [],
   "source": [
    "cosine_similarity = linear_kernel(book_content_matrix, book_content_matrix)"
   ]
  },
  {
   "cell_type": "code",
   "execution_count": 10,
   "metadata": {},
   "outputs": [
    {
     "name": "stdout",
     "output_type": "stream",
     "text": [
      "The choice is: Giáo trình ngôn ngữ mô hình hóa UML\n",
      "3049 - Giáo trình lập trình căn bản với ngôn ngữ C \n",
      "3040 - Software engineering : A practitioner's approach \n",
      "3071 - Giáo trình kiến trúc và thiết kế phần mềm \n",
      "3042 - Object-oriented software engineering : using UML, patterns, and Java \n",
      "3052 - Giáo trình bảo trì phần mềm \n"
     ]
    }
   ],
   "source": [
    "choice = 68\n",
    "similarity_scores = list(enumerate(cosine_similarity[choice-1]))\n",
    "similarity_scores = sorted(similarity_scores, key=lambda x: x[1], reverse=True)\n",
    "similarity_scores = similarity_scores[1:6]\n",
    "\n",
    "# Get the similar books index\n",
    "books_index = [i[0] for i in similarity_scores]\n",
    "\n",
    "# printing the top 5 most similar books using integer-location based indexing (iloc)\n",
    "print(f'The choice is: {books[choice-1].book_title}')\n",
    "for i in books_index:\n",
    "    print(f'{books[i].book_id} - {books[i].book_title} ')\n"
   ]
  },
  {
   "cell_type": "code",
   "execution_count": 32,
   "metadata": {},
   "outputs": [
    {
     "name": "stdout",
     "output_type": "stream",
     "text": [
      "update rating\n"
     ]
    }
   ],
   "source": [
    "from home.models import Book, Rating\n",
    "from django.contrib.auth.models import User\n",
    "# method insert rating cho mot cuon sach\n",
    "userid = 1\n",
    "bookid = 3001\n",
    "point = 4\n",
    "rate = Rating.objects.filter(user_id = userid, book_id = bookid).first()\n",
    "if(not rate):\n",
    "    print('user has not rated this book')\n",
    "    # insert rating\n",
    "    rate1 = Rating(user_id = userid, book_id = bookid, rating = point)\n",
    "    rate1.save()\n",
    "else:\n",
    "    # update rating\n",
    "    rate.rating = point\n",
    "    rate.save()\n",
    "    print(\"update rating\")\n"
   ]
  },
  {
   "cell_type": "code",
   "execution_count": 1,
   "metadata": {},
   "outputs": [],
   "source": [
    "from django_for_jupyter import init_django\n",
    "init_django()"
   ]
  },
  {
   "cell_type": "code",
   "execution_count": 9,
   "metadata": {},
   "outputs": [
    {
     "name": "stdout",
     "output_type": "stream",
     "text": [
      "4.0\n"
     ]
    }
   ],
   "source": [
    "from home.models import Book_Topic, Topic, Book, Rating\n",
    "from django.db.models import Avg\n",
    "book_id = 3001\n",
    "def averRating(book_id):\n",
    "    Rating.objects.filter(book_id=book_id).aggregate(ave=Avg('rating'))['ave']\n",
    "print(averRating(book_id))"
   ]
  }
 ],
 "metadata": {
  "kernelspec": {
   "display_name": "Python 3 (ipykernel)",
   "language": "python",
   "name": "python3"
  },
  "language_info": {
   "codemirror_mode": {
    "name": "ipython",
    "version": 3
   },
   "file_extension": ".py",
   "mimetype": "text/x-python",
   "name": "python",
   "nbconvert_exporter": "python",
   "pygments_lexer": "ipython3",
   "version": "3.12.1"
  }
 },
 "nbformat": 4,
 "nbformat_minor": 4
}
